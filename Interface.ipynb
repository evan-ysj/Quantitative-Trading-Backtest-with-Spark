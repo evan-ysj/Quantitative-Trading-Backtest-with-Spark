{
 "cells": [
  {
   "cell_type": "code",
   "execution_count": 3,
   "metadata": {},
   "outputs": [
    {
     "data": {
      "application/vnd.jupyter.widget-view+json": {
       "model_id": "651168a86a764298b6a801db30c3bff0",
       "version_major": 2,
       "version_minor": 0
      },
      "text/plain": [
       "Box(children=(VBox(children=(Dropdown(description='stock_id', options=('600966.SH.CSV', '600866.SH.CSV', '6035…"
      ]
     },
     "metadata": {},
     "output_type": "display_data"
    }
   ],
   "source": [
    "import matplotlib.pyplot as plt\n",
    "import pandas as pd\n",
    "from backtest import Backtest\n",
    "from ipywidgets import *\n",
    "from utils_spark import read_file\n",
    "import ipywidgets as widgets\n",
    "import os\n",
    "\n",
    "\n",
    "files = []\n",
    "for path in os.walk('data'):\n",
    "    files = path[2]\n",
    "\n",
    "def para(stock_id, cash, commission, fast, slow):\n",
    "    df = read_file('data/{0}'.format(stock_id))\n",
    "    backtest = Backtest(df, cash = cash, commission = commission, fast=fast, slow=slow)\n",
    "    ret = backtest.run()\n",
    "    chart0 = pd.DataFrame(backtest.values)\n",
    "    chart1 = pd.DataFrame(backtest.sma1)\n",
    "    chart2 = pd.DataFrame(backtest.sma2)\n",
    "    figsize = 12, 5\n",
    "    plt.subplots(figsize = figsize)\n",
    "    ax1 = plt.subplot()\n",
    "    plt.plot(chart0, color='black', label='$Price$', linewidth=0.5)\n",
    "    plt.legend(loc='upper left', frameon=False)\n",
    "    plt.plot(chart1, color='blue', label='$SMA Fast = {0}$'.format(fast), linewidth=1)\n",
    "    plt.legend(loc='upper left', frameon=False)\n",
    "    plt.plot(chart2, color='red', label='$SMA Slow = {0}$'.format(slow), linewidth=1)\n",
    "    plt.legend(loc='upper left', frameon=False)\n",
    "    print('Stock ID: {0}'.format(stock_id[:6]))\n",
    "    print('=======================================================================================')\n",
    "    print(pd.Series(ret))\n",
    "    print('=======================================================================================')\n",
    "\n",
    "form_item_layout = widgets.Layout(\n",
    "    justify_content='space-around',\n",
    "    margin='2%'\n",
    ")\n",
    "form_items = [\n",
    "    VBox(children=interactive(\n",
    "        para, \n",
    "        {'manual': True}, \n",
    "        stock_id = files, \n",
    "        cash = (5000, 100000, 5000), \n",
    "        commission = (0, 0.01, 0.001), \n",
    "        fast=(5, 100, 5), \n",
    "        slow=(10, 200, 5)\n",
    "    ).children, layout=form_item_layout)\n",
    "]\n",
    "form = widgets.Box(form_items, layout=widgets.Layout(\n",
    "    display='flex',\n",
    "    flex_flow='column',\n",
    "    border='solid 1px',\n",
    "    align_items='stretch',\n",
    "    width='750px',\n",
    "    margin='1.3%'\n",
    "))\n",
    "\n",
    "form"
   ]
  },
  {
   "cell_type": "code",
   "execution_count": null,
   "metadata": {},
   "outputs": [],
   "source": []
  }
 ],
 "metadata": {
  "kernelspec": {
   "display_name": "Python 3",
   "language": "python",
   "name": "python3"
  },
  "language_info": {
   "codemirror_mode": {
    "name": "ipython",
    "version": 3
   },
   "file_extension": ".py",
   "mimetype": "text/x-python",
   "name": "python",
   "nbconvert_exporter": "python",
   "pygments_lexer": "ipython3",
   "version": "3.7.3"
  }
 },
 "nbformat": 4,
 "nbformat_minor": 4
}
