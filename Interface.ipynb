{
 "cells": [
  {
   "cell_type": "code",
   "execution_count": 2,
   "metadata": {},
   "outputs": [
    {
     "data": {
      "application/vnd.jupyter.widget-view+json": {
       "model_id": "1bfd4c07da524a5dbd24316681f684a8",
       "version_major": 2,
       "version_minor": 0
      },
      "text/plain": [
       "interactive(children=(Dropdown(description='stock_id', options=('600966.SH.CSV', '600866.SH.CSV', '603588.SH.C…"
      ]
     },
     "metadata": {},
     "output_type": "display_data"
    },
    {
     "data": {
      "text/plain": [
       "<function __main__.para(stock_id, cash, commission, fast, slow)>"
      ]
     },
     "execution_count": 2,
     "metadata": {},
     "output_type": "execute_result"
    }
   ],
   "source": [
    "import matplotlib.pyplot as plt\n",
    "import pandas as pd\n",
    "from backtest import Backtest\n",
    "from ipywidgets import interact, interactive, fixed, interact_manual\n",
    "from utils_spark import read_file\n",
    "import ipywidgets as widgets\n",
    "import os\n",
    "\n",
    "font1 = {'family' : 'Times New Roman', \n",
    "        'weight' : 'normal', \n",
    "        'size'  : 9, \n",
    "        } \n",
    "\n",
    "files = []\n",
    "for path in os.walk('data'):\n",
    "    files = path[2]\n",
    "\n",
    "def para(stock_id, cash, commission, fast, slow):\n",
    "    df = read_file('data/{0}'.format(stock_id))\n",
    "    backtest = Backtest(df, cash = cash, commission = commission, fast=fast, slow=slow)\n",
    "    backtest.run()\n",
    "    backtest.print_results()\n",
    "    chart0 = pd.DataFrame(backtest.values)\n",
    "    chart1 = pd.DataFrame(backtest.sma1)\n",
    "    chart2 = pd.DataFrame(backtest.sma2)\n",
    "    figsize = 12, 5\n",
    "    plt.subplots(figsize = figsize)\n",
    "    ax1 = plt.subplot()\n",
    "    plt.plot(chart0, color='black', label='$Price$', linewidth=0.5)\n",
    "    plt.legend(loc='upper left', prop=font1, frameon=False)\n",
    "    plt.plot(chart1, color='blue', label='$SMA Fast = {0}$'.format(fast), linewidth=1)\n",
    "    plt.legend(loc='upper left', prop=font1, frameon=False)\n",
    "    plt.plot(chart2, color='red', label='$SMA Slow = {0}$'.format(slow), linewidth=1)\n",
    "    plt.legend(loc='upper left', prop=font1, frameon=False)\n",
    "    \n",
    "interact_manual(para, stock_id = files, cash = 10000.0, commission = (0, 0.01, 0.001), fast=40, slow=90)\n"
   ]
  },
  {
   "cell_type": "code",
   "execution_count": null,
   "metadata": {},
   "outputs": [],
   "source": []
  }
 ],
 "metadata": {
  "kernelspec": {
   "display_name": "Python 3",
   "language": "python",
   "name": "python3"
  },
  "language_info": {
   "codemirror_mode": {
    "name": "ipython",
    "version": 3
   },
   "file_extension": ".py",
   "mimetype": "text/x-python",
   "name": "python",
   "nbconvert_exporter": "python",
   "pygments_lexer": "ipython3",
   "version": "3.7.3"
  }
 },
 "nbformat": 4,
 "nbformat_minor": 4
}
