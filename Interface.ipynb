{
 "cells": [
  {
   "cell_type": "code",
   "execution_count": 4,
   "metadata": {},
   "outputs": [
    {
     "data": {
      "application/vnd.jupyter.widget-view+json": {
       "model_id": "8894c07ea8ad4cd6b5ab25643f881529",
       "version_major": 2,
       "version_minor": 0
      },
      "text/plain": [
       "Box(children=(VBox(children=(Dropdown(description='stock_id', options=('600966.SH.CSV', '600866.SH.CSV', '6035…"
      ]
     },
     "metadata": {},
     "output_type": "display_data"
    }
   ],
   "source": [
    "import matplotlib.pyplot as plt\n",
    "import pandas as pd\n",
    "from backtest import Backtest\n",
    "from ipywidgets import *\n",
    "from utils_spark import read_file\n",
    "import ipywidgets as widgets\n",
    "import os\n",
    "\n",
    "\n",
    "# Get the data file list\n",
    "files = []\n",
    "for path in os.walk('data'):\n",
    "    files = path[2]\n",
    "\n",
    "# Define a function to pass the interactive parameters to backtest object\n",
    "def para(stock_id, cash, commission, fast, slow):\n",
    "    df = read_file('data/{0}'.format(stock_id))\n",
    "    # Define and initialize backtest object\n",
    "    backtest = Backtest(df, cash = cash, commission = commission, fast=fast, slow=slow)\n",
    "    ret = backtest.run()\n",
    "    # Copy the original price curve and two SMA curves\n",
    "    chart0 = pd.DataFrame(backtest.values)\n",
    "    chart1 = pd.DataFrame(backtest.sma1)\n",
    "    chart2 = pd.DataFrame(backtest.sma2)\n",
    "    # Initialize the chart plot\n",
    "    figsize = 12, 5\n",
    "    plt.subplots(figsize = figsize)\n",
    "    ax1 = plt.subplot()\n",
    "    plt.plot(chart0, color='black', label='$Price$', linewidth=0.5)\n",
    "    plt.legend(loc='upper left', frameon=False)\n",
    "    plt.plot(chart1, color='blue', label='$SMA Fast = {0}$'.format(fast), linewidth=1)\n",
    "    plt.legend(loc='upper left', frameon=False)\n",
    "    plt.plot(chart2, color='red', label='$SMA Slow = {0}$'.format(slow), linewidth=1)\n",
    "    plt.legend(loc='upper left', frameon=False)\n",
    "    # Print the output data\n",
    "    print('Stock ID: {0}'.format(stock_id[:6]))\n",
    "    print('=======================================================================================')\n",
    "    print(pd.Series(ret))\n",
    "    print('=======================================================================================')\n",
    "\n",
    "# Specify the layout of output Box\n",
    "form_item_layout = Layout(\n",
    "    justify_content='space-around',\n",
    "    margin='2%'\n",
    ")\n",
    "# Define widgets by interactive and pack into the Box\n",
    "form_items = [\n",
    "    VBox(children=interactive(\n",
    "        para, \n",
    "        {'manual': True}, \n",
    "        stock_id = files, \n",
    "        cash = (5000, 100000, 5000), \n",
    "        commission = (0, 0.01, 0.001), \n",
    "        fast=(5, 100, 5), \n",
    "        slow=(10, 200, 5)\n",
    "    ).children, layout=form_item_layout)\n",
    "]\n",
    "# Insert items into Box and specify the layout\n",
    "form = Box(form_items, layout=Layout(\n",
    "    display='flex',\n",
    "    flex_flow='column',\n",
    "    border='solid 1px',\n",
    "    align_items='stretch',\n",
    "    width='750px',\n",
    "    margin='1.3%'\n",
    "))\n",
    "\n",
    "form"
   ]
  },
  {
   "cell_type": "code",
   "execution_count": null,
   "metadata": {},
   "outputs": [],
   "source": []
  }
 ],
 "metadata": {
  "kernelspec": {
   "display_name": "Python 3",
   "language": "python",
   "name": "python3"
  },
  "language_info": {
   "codemirror_mode": {
    "name": "ipython",
    "version": 3
   },
   "file_extension": ".py",
   "mimetype": "text/x-python",
   "name": "python",
   "nbconvert_exporter": "python",
   "pygments_lexer": "ipython3",
   "version": "3.7.3"
  }
 },
 "nbformat": 4,
 "nbformat_minor": 4
}
