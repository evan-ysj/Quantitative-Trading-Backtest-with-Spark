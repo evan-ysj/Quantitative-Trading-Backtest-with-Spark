{
 "cells": [
  {
   "cell_type": "code",
   "execution_count": 1,
   "metadata": {},
   "outputs": [
    {
     "data": {
      "application/vnd.jupyter.widget-view+json": {
       "model_id": "80b00e02515d4a5eb923f267dd9a6eac",
       "version_major": 2,
       "version_minor": 0
      },
      "text/plain": [
       "interactive(children=(FloatSlider(value=10000.0, description='cash', max=30000.0, min=-10000.0), FloatSlider(v…"
      ]
     },
     "metadata": {},
     "output_type": "display_data"
    },
    {
     "data": {
      "text/plain": [
       "<function __main__.para(cash, commission, fast, slow)>"
      ]
     },
     "execution_count": 1,
     "metadata": {},
     "output_type": "execute_result"
    }
   ],
   "source": [
    "%matplotlib inline\n",
    "from backtest import Backtest\n",
    "from ipywidgets import interact, interactive, fixed, interact_manual\n",
    "from utils_spark import read_file\n",
    "import ipywidgets as widgets\n",
    "\n",
    "file_path = '600602.SH.csv'\n",
    "df = read_file(file_path)\n",
    "def para(cash, commission, fast, slow):\n",
    "    backtest = Backtest(df, cash = cash, commission = commission, fast=fast, slow=slow)\n",
    "    backtest.run()\n",
    "    backtest.print_results()\n",
    "interact_manual(para, cash = 10000.0, commission = 0.0005, fast=30, slow=90)"
   ]
  },
  {
   "cell_type": "code",
   "execution_count": null,
   "metadata": {},
   "outputs": [],
   "source": []
  }
 ],
 "metadata": {
  "kernelspec": {
   "display_name": "Python 3",
   "language": "python",
   "name": "python3"
  },
  "language_info": {
   "codemirror_mode": {
    "name": "ipython",
    "version": 3
   },
   "file_extension": ".py",
   "mimetype": "text/x-python",
   "name": "python",
   "nbconvert_exporter": "python",
   "pygments_lexer": "ipython3",
   "version": "3.7.3"
  }
 },
 "nbformat": 4,
 "nbformat_minor": 2
}
